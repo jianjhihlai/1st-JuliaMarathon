{
 "cells": [
  {
   "cell_type": "markdown",
   "metadata": {},
   "source": [
    "# Julia 深度學習：可微分程式設計\n",
    "\n",
    "## 作業 031：對神經網路層微分\n",
    "\n",
    "請自行撰寫一個型別，型別代表神經網路的一層運算，並且對它微分。神經網路層的一般式如下：\n",
    "\n",
    "$$\n",
    "y = \\sigma (Wx + b)\n",
    "$$\n",
    "\n",
    "其中 `W` 為參數矩陣，`b` 為參數向量，`x` 為輸入向量，`y` 為輸出向量。要取得向量的微分值，需要將向量縮減為純量，如下：\n",
    "\n",
    "```\n",
    "gradient(x -> sum(y), 1)\n",
    "```"
   ]
  },
  {
   "cell_type": "code",
   "execution_count": 4,
   "metadata": {},
   "outputs": [],
   "source": [
    "using Zygote"
   ]
  },
  {
   "cell_type": "code",
   "execution_count": 5,
   "metadata": {},
   "outputs": [
    {
     "ename": "UndefVarError",
     "evalue": "UndefVarError: x not defined",
     "output_type": "error",
     "traceback": [
      "UndefVarError: x not defined",
      "",
      "Stacktrace:",
      " [1] top-level scope at C:\\Users\\Lai\\.julia\\packages\\IJulia\\DrVMH\\src\\kernel.jl:52"
     ]
    }
   ],
   "source": [
    "W = 5\n",
    "b = 1\n",
    "struct y\n",
    "    W*x + b\n",
    "end"
   ]
  },
  {
   "cell_type": "code",
   "execution_count": 6,
   "metadata": {},
   "outputs": [
    {
     "ename": "MethodError",
     "evalue": "MethodError: no method matching iterate(::Type{y})\nClosest candidates are:\n  iterate(!Matched::Core.SimpleVector) at essentials.jl:604\n  iterate(!Matched::Core.SimpleVector, !Matched::Any) at essentials.jl:604\n  iterate(!Matched::ExponentialBackOff) at error.jl:214\n  ...",
     "output_type": "error",
     "traceback": [
      "MethodError: no method matching iterate(::Type{y})\nClosest candidates are:\n  iterate(!Matched::Core.SimpleVector) at essentials.jl:604\n  iterate(!Matched::Core.SimpleVector, !Matched::Any) at essentials.jl:604\n  iterate(!Matched::ExponentialBackOff) at error.jl:214\n  ...",
      "",
      "Stacktrace:",
      " [1] macro expansion at C:\\Users\\Lai\\.julia\\packages\\Zygote\\YeCEW\\src\\compiler\\interface2.jl:0 [inlined]",
      " [2] _pullback(::Zygote.Context, ::typeof(iterate), ::Type{y}) at C:\\Users\\Lai\\.julia\\packages\\Zygote\\YeCEW\\src\\compiler\\interface2.jl:7",
      " [3] mapfoldl_impl at .\\reduce.jl:55 [inlined]",
      " [4] _pullback(::Zygote.Context, ::typeof(Base.mapfoldl_impl), ::typeof(identity), ::typeof(Base.add_sum), ::NamedTuple{(),Tuple{}}, ::Type{y}) at C:\\Users\\Lai\\.julia\\packages\\Zygote\\YeCEW\\src\\compiler\\interface2.jl:0",
      " [5] #mapfoldl#188 at .\\reduce.jl:72 [inlined]",
      " [6] _pullback(::Zygote.Context, ::getfield(Base, Symbol(\"##mapfoldl#188\")), ::Base.Iterators.Pairs{Union{},Union{},Tuple{},NamedTuple{(),Tuple{}}}, ::typeof(mapfoldl), ::typeof(identity), ::typeof(Base.add_sum), ::Type{y}) at C:\\Users\\Lai\\.julia\\packages\\Zygote\\YeCEW\\src\\compiler\\interface2.jl:0",
      " [7] mapfoldl at .\\reduce.jl:72 [inlined]",
      " [8] _pullback(::Zygote.Context, ::typeof(mapfoldl), ::typeof(identity), ::typeof(Base.add_sum), ::Type{y}) at C:\\Users\\Lai\\.julia\\packages\\Zygote\\YeCEW\\src\\compiler\\interface2.jl:0",
      " [9] #mapreduce#192 at .\\reduce.jl:208 [inlined]",
      " [10] _pullback(::Zygote.Context, ::getfield(Base, Symbol(\"##mapreduce#192\")), ::Base.Iterators.Pairs{Union{},Union{},Tuple{},NamedTuple{(),Tuple{}}}, ::typeof(mapreduce), ::typeof(identity), ::typeof(Base.add_sum), ::Type{y}) at C:\\Users\\Lai\\.julia\\packages\\Zygote\\YeCEW\\src\\compiler\\interface2.jl:0",
      " [11] mapreduce at .\\reduce.jl:208 [inlined]",
      " [12] _pullback(::Zygote.Context, ::typeof(mapreduce), ::typeof(identity), ::typeof(Base.add_sum), ::Type{y}) at C:\\Users\\Lai\\.julia\\packages\\Zygote\\YeCEW\\src\\compiler\\interface2.jl:0",
      " [13] sum at .\\reduce.jl:403 [inlined]",
      " [14] _pullback(::Zygote.Context, ::typeof(sum), ::typeof(identity), ::Type{y}) at C:\\Users\\Lai\\.julia\\packages\\Zygote\\YeCEW\\src\\compiler\\interface2.jl:0",
      " [15] sum at .\\reduce.jl:420 [inlined]",
      " [16] _pullback(::Zygote.Context, ::typeof(sum), ::Type{y}) at C:\\Users\\Lai\\.julia\\packages\\Zygote\\YeCEW\\src\\compiler\\interface2.jl:0",
      " [17] #5 at .\\In[6]:1 [inlined]",
      " [18] _pullback(::Zygote.Context, ::getfield(Main, Symbol(\"##5#6\")), ::Int64) at C:\\Users\\Lai\\.julia\\packages\\Zygote\\YeCEW\\src\\compiler\\interface2.jl:0",
      " [19] _pullback(::Function, ::Int64) at C:\\Users\\Lai\\.julia\\packages\\Zygote\\YeCEW\\src\\compiler\\interface.jl:39",
      " [20] pullback(::Function, ::Int64) at C:\\Users\\Lai\\.julia\\packages\\Zygote\\YeCEW\\src\\compiler\\interface.jl:45",
      " [21] gradient(::Function, ::Int64) at C:\\Users\\Lai\\.julia\\packages\\Zygote\\YeCEW\\src\\compiler\\interface.jl:54",
      " [22] top-level scope at In[6]:1"
     ]
    }
   ],
   "source": [
    "gradient(x->sum(y), 1)"
   ]
  }
 ],
 "metadata": {
  "kernelspec": {
   "display_name": "Julia 1.2.0",
   "language": "julia",
   "name": "julia-1.2"
  },
  "language_info": {
   "file_extension": ".jl",
   "mimetype": "application/julia",
   "name": "julia",
   "version": "1.2.0"
  }
 },
 "nbformat": 4,
 "nbformat_minor": 4
}
