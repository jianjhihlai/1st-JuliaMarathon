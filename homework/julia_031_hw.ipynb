{
 "cells": [
  {
   "cell_type": "markdown",
   "metadata": {},
   "source": [
    "# Julia 深度學習：可微分程式設計\n",
    "\n",
    "## 作業 031：對神經網路層微分\n",
    "\n",
    "請自行撰寫一個型別，型別代表神經網路的一層運算，並且對它微分。神經網路層的一般式如下：\n",
    "\n",
    "$$\n",
    "y = \\sigma (Wx + b)\n",
    "$$\n",
    "\n",
    "其中 `W` 為參數矩陣，`b` 為參數向量，`x` 為輸入向量，`y` 為輸出向量。要取得向量的微分值，需要將向量縮減為純量，如下：\n",
    "\n",
    "```\n",
    "gradient(x -> sum(y), 1)\n",
    "```"
   ]
  },
  {
   "cell_type": "code",
   "execution_count": 2,
   "metadata": {
    "scrolled": true
   },
   "outputs": [],
   "source": [
    "using Zygote"
   ]
  },
  {
   "cell_type": "code",
   "execution_count": 3,
   "metadata": {},
   "outputs": [
    {
     "data": {
      "text/plain": [
       "linear([0.45606491978873664 -0.22653657804488508 … -0.34973311971161547 0.79306945706783; 0.42530302465841313 -0.006443456156062822 … -2.3837279027921676 0.4352539827718069; … ; 0.5828005778528234 -0.44862570081991204 … -2.2632903732886707 -0.5002441102857328; -0.48250795086818876 -0.2562059998653444 … -0.8218995558714849 -1.8298884820077133], [0.1404432769936834, 0.48157302322229, -0.24192472169527282, 0.5507962296912517, 0.6119060216501832])"
      ]
     },
     "execution_count": 3,
     "metadata": {},
     "output_type": "execute_result"
    }
   ],
   "source": [
    "struct linear\n",
    "    W\n",
    "    b\n",
    "end\n",
    "\n",
    "linear(in::Integer, out::Integer) = linear(randn(out, in), randn(out))\n",
    "\n",
    "(m::linear)(x) = m.W * x .+ m.b\n",
    "\n",
    "y = linear(10, 5)"
   ]
  },
  {
   "cell_type": "code",
   "execution_count": 6,
   "metadata": {
    "scrolled": true
   },
   "outputs": [
    {
     "data": {
      "text/plain": [
       "([-0.06528054759576574, -1.8262503015421632, -3.797422273498948, 2.206062349857682, -1.9343210589913828, 3.9452605470133353, 1.0762156627142294, -3.80021477427156, -7.366396554814942, -2.234789236393459],)"
      ]
     },
     "execution_count": 6,
     "metadata": {},
     "output_type": "execute_result"
    }
   ],
   "source": [
    "gradient(x->sum(y(x)), rand(10))"
   ]
  }
 ],
 "metadata": {
  "kernelspec": {
   "display_name": "Julia 1.4.1",
   "language": "julia",
   "name": "julia-1.4"
  },
  "language_info": {
   "file_extension": ".jl",
   "mimetype": "application/julia",
   "name": "julia",
   "version": "1.4.1"
  }
 },
 "nbformat": 4,
 "nbformat_minor": 4
}
