{
 "cells": [
  {
   "cell_type": "markdown",
   "metadata": {},
   "source": [
    "# Julia 機器學習：GLM 線性迴歸\n",
    "\n",
    "## 作業 027：波士頓房價預測資料集\n",
    "\n",
    "請使用 GLM 中的模型，建立一個預測模型來預測波士頓的房價。"
   ]
  },
  {
   "cell_type": "code",
   "execution_count": 3,
   "metadata": {},
   "outputs": [],
   "source": [
    "using GLM, RDatasets, MLDataUtils"
   ]
  },
  {
   "cell_type": "markdown",
   "metadata": {},
   "source": [
    "## 讀取資料"
   ]
  },
  {
   "cell_type": "code",
   "execution_count": 6,
   "metadata": {},
   "outputs": [
    {
     "data": {
      "text/html": [
       "<table class=\"data-frame\"><thead><tr><th></th><th>Crim</th><th>Zn</th><th>Indus</th><th>Chas</th><th>NOx</th><th>Rm</th><th>Age</th><th>Dis</th><th>Rad</th><th>Tax</th></tr><tr><th></th><th>Float64</th><th>Float64</th><th>Float64</th><th>Int64</th><th>Float64</th><th>Float64</th><th>Float64</th><th>Float64</th><th>Int64</th><th>Int64</th></tr></thead><tbody><p>10 rows × 14 columns (omitted printing of 4 columns)</p><tr><th>1</th><td>0.00632</td><td>18.0</td><td>2.31</td><td>0</td><td>0.538</td><td>6.575</td><td>65.2</td><td>4.09</td><td>1</td><td>296</td></tr><tr><th>2</th><td>0.02731</td><td>0.0</td><td>7.07</td><td>0</td><td>0.469</td><td>6.421</td><td>78.9</td><td>4.9671</td><td>2</td><td>242</td></tr><tr><th>3</th><td>0.02729</td><td>0.0</td><td>7.07</td><td>0</td><td>0.469</td><td>7.185</td><td>61.1</td><td>4.9671</td><td>2</td><td>242</td></tr><tr><th>4</th><td>0.03237</td><td>0.0</td><td>2.18</td><td>0</td><td>0.458</td><td>6.998</td><td>45.8</td><td>6.0622</td><td>3</td><td>222</td></tr><tr><th>5</th><td>0.06905</td><td>0.0</td><td>2.18</td><td>0</td><td>0.458</td><td>7.147</td><td>54.2</td><td>6.0622</td><td>3</td><td>222</td></tr><tr><th>6</th><td>0.02985</td><td>0.0</td><td>2.18</td><td>0</td><td>0.458</td><td>6.43</td><td>58.7</td><td>6.0622</td><td>3</td><td>222</td></tr><tr><th>7</th><td>0.08829</td><td>12.5</td><td>7.87</td><td>0</td><td>0.524</td><td>6.012</td><td>66.6</td><td>5.5605</td><td>5</td><td>311</td></tr><tr><th>8</th><td>0.14455</td><td>12.5</td><td>7.87</td><td>0</td><td>0.524</td><td>6.172</td><td>96.1</td><td>5.9505</td><td>5</td><td>311</td></tr><tr><th>9</th><td>0.21124</td><td>12.5</td><td>7.87</td><td>0</td><td>0.524</td><td>5.631</td><td>100.0</td><td>6.0821</td><td>5</td><td>311</td></tr><tr><th>10</th><td>0.17004</td><td>12.5</td><td>7.87</td><td>0</td><td>0.524</td><td>6.004</td><td>85.9</td><td>6.5921</td><td>5</td><td>311</td></tr></tbody></table>"
      ],
      "text/latex": [
       "\\begin{tabular}{r|ccccccccccc}\n",
       "\t& Crim & Zn & Indus & Chas & NOx & Rm & Age & Dis & Rad & Tax & \\\\\n",
       "\t\\hline\n",
       "\t& Float64 & Float64 & Float64 & Int64 & Float64 & Float64 & Float64 & Float64 & Int64 & Int64 & \\\\\n",
       "\t\\hline\n",
       "\t1 & 0.00632 & 18.0 & 2.31 & 0 & 0.538 & 6.575 & 65.2 & 4.09 & 1 & 296 & $\\dots$ \\\\\n",
       "\t2 & 0.02731 & 0.0 & 7.07 & 0 & 0.469 & 6.421 & 78.9 & 4.9671 & 2 & 242 & $\\dots$ \\\\\n",
       "\t3 & 0.02729 & 0.0 & 7.07 & 0 & 0.469 & 7.185 & 61.1 & 4.9671 & 2 & 242 & $\\dots$ \\\\\n",
       "\t4 & 0.03237 & 0.0 & 2.18 & 0 & 0.458 & 6.998 & 45.8 & 6.0622 & 3 & 222 & $\\dots$ \\\\\n",
       "\t5 & 0.06905 & 0.0 & 2.18 & 0 & 0.458 & 7.147 & 54.2 & 6.0622 & 3 & 222 & $\\dots$ \\\\\n",
       "\t6 & 0.02985 & 0.0 & 2.18 & 0 & 0.458 & 6.43 & 58.7 & 6.0622 & 3 & 222 & $\\dots$ \\\\\n",
       "\t7 & 0.08829 & 12.5 & 7.87 & 0 & 0.524 & 6.012 & 66.6 & 5.5605 & 5 & 311 & $\\dots$ \\\\\n",
       "\t8 & 0.14455 & 12.5 & 7.87 & 0 & 0.524 & 6.172 & 96.1 & 5.9505 & 5 & 311 & $\\dots$ \\\\\n",
       "\t9 & 0.21124 & 12.5 & 7.87 & 0 & 0.524 & 5.631 & 100.0 & 6.0821 & 5 & 311 & $\\dots$ \\\\\n",
       "\t10 & 0.17004 & 12.5 & 7.87 & 0 & 0.524 & 6.004 & 85.9 & 6.5921 & 5 & 311 & $\\dots$ \\\\\n",
       "\\end{tabular}\n"
      ],
      "text/plain": [
       "10×14 DataFrame. Omitted printing of 7 columns\n",
       "│ Row │ Crim    │ Zn      │ Indus   │ Chas  │ NOx     │ Rm      │ Age     │\n",
       "│     │ \u001b[90mFloat64\u001b[39m │ \u001b[90mFloat64\u001b[39m │ \u001b[90mFloat64\u001b[39m │ \u001b[90mInt64\u001b[39m │ \u001b[90mFloat64\u001b[39m │ \u001b[90mFloat64\u001b[39m │ \u001b[90mFloat64\u001b[39m │\n",
       "├─────┼─────────┼─────────┼─────────┼───────┼─────────┼─────────┼─────────┤\n",
       "│ 1   │ 0.00632 │ 18.0    │ 2.31    │ 0     │ 0.538   │ 6.575   │ 65.2    │\n",
       "│ 2   │ 0.02731 │ 0.0     │ 7.07    │ 0     │ 0.469   │ 6.421   │ 78.9    │\n",
       "│ 3   │ 0.02729 │ 0.0     │ 7.07    │ 0     │ 0.469   │ 7.185   │ 61.1    │\n",
       "│ 4   │ 0.03237 │ 0.0     │ 2.18    │ 0     │ 0.458   │ 6.998   │ 45.8    │\n",
       "│ 5   │ 0.06905 │ 0.0     │ 2.18    │ 0     │ 0.458   │ 7.147   │ 54.2    │\n",
       "│ 6   │ 0.02985 │ 0.0     │ 2.18    │ 0     │ 0.458   │ 6.43    │ 58.7    │\n",
       "│ 7   │ 0.08829 │ 12.5    │ 7.87    │ 0     │ 0.524   │ 6.012   │ 66.6    │\n",
       "│ 8   │ 0.14455 │ 12.5    │ 7.87    │ 0     │ 0.524   │ 6.172   │ 96.1    │\n",
       "│ 9   │ 0.21124 │ 12.5    │ 7.87    │ 0     │ 0.524   │ 5.631   │ 100.0   │\n",
       "│ 10  │ 0.17004 │ 12.5    │ 7.87    │ 0     │ 0.524   │ 6.004   │ 85.9    │"
      ]
     },
     "execution_count": 6,
     "metadata": {},
     "output_type": "execute_result"
    }
   ],
   "source": [
    "boston = dataset(\"MASS\", \"Boston\")\n",
    "first(boston, 10)"
   ]
  },
  {
   "cell_type": "code",
   "execution_count": 7,
   "metadata": {},
   "outputs": [],
   "source": [
    "indecies = MLDataUtils.shuffleobs(collect(1:nrow(boston)))\n",
    "train_ind, test_ind = MLDataUtils.splitobs(indecies, at = 0.8);"
   ]
  },
  {
   "cell_type": "code",
   "execution_count": 8,
   "metadata": {
    "scrolled": true
   },
   "outputs": [
    {
     "data": {
      "text/html": [
       "<table class=\"data-frame\"><thead><tr><th></th><th>Crim</th><th>Zn</th><th>Indus</th><th>Chas</th><th>NOx</th><th>Rm</th><th>Age</th><th>Dis</th><th>Rad</th><th>Tax</th></tr><tr><th></th><th>Float64</th><th>Float64</th><th>Float64</th><th>Int64</th><th>Float64</th><th>Float64</th><th>Float64</th><th>Float64</th><th>Int64</th><th>Int64</th></tr></thead><tbody><p>101 rows × 14 columns (omitted printing of 4 columns)</p><tr><th>1</th><td>4.55587</td><td>0.0</td><td>18.1</td><td>0</td><td>0.718</td><td>3.561</td><td>87.9</td><td>1.6132</td><td>24</td><td>666</td></tr><tr><th>2</th><td>0.03537</td><td>34.0</td><td>6.09</td><td>0</td><td>0.433</td><td>6.59</td><td>40.4</td><td>5.4917</td><td>7</td><td>329</td></tr><tr><th>3</th><td>0.28955</td><td>0.0</td><td>10.59</td><td>0</td><td>0.489</td><td>5.412</td><td>9.8</td><td>3.5875</td><td>4</td><td>277</td></tr><tr><th>4</th><td>8.24809</td><td>0.0</td><td>18.1</td><td>0</td><td>0.713</td><td>7.393</td><td>99.3</td><td>2.4527</td><td>24</td><td>666</td></tr><tr><th>5</th><td>0.12204</td><td>0.0</td><td>2.89</td><td>0</td><td>0.445</td><td>6.625</td><td>57.8</td><td>3.4952</td><td>2</td><td>276</td></tr><tr><th>6</th><td>41.5292</td><td>0.0</td><td>18.1</td><td>0</td><td>0.693</td><td>5.531</td><td>85.4</td><td>1.6074</td><td>24</td><td>666</td></tr><tr><th>7</th><td>7.52601</td><td>0.0</td><td>18.1</td><td>0</td><td>0.713</td><td>6.417</td><td>98.3</td><td>2.185</td><td>24</td><td>666</td></tr><tr><th>8</th><td>6.44405</td><td>0.0</td><td>18.1</td><td>0</td><td>0.584</td><td>6.425</td><td>74.8</td><td>2.2004</td><td>24</td><td>666</td></tr><tr><th>9</th><td>0.07503</td><td>33.0</td><td>2.18</td><td>0</td><td>0.472</td><td>7.42</td><td>71.9</td><td>3.0992</td><td>7</td><td>222</td></tr><tr><th>10</th><td>2.44668</td><td>0.0</td><td>19.58</td><td>0</td><td>0.871</td><td>5.272</td><td>94.0</td><td>1.7364</td><td>5</td><td>403</td></tr><tr><th>11</th><td>0.32543</td><td>0.0</td><td>21.89</td><td>0</td><td>0.624</td><td>6.431</td><td>98.8</td><td>1.8125</td><td>4</td><td>437</td></tr><tr><th>12</th><td>0.97617</td><td>0.0</td><td>21.89</td><td>0</td><td>0.624</td><td>5.757</td><td>98.4</td><td>2.346</td><td>4</td><td>437</td></tr><tr><th>13</th><td>0.46296</td><td>0.0</td><td>6.2</td><td>0</td><td>0.504</td><td>7.412</td><td>76.9</td><td>3.6715</td><td>8</td><td>307</td></tr><tr><th>14</th><td>0.07978</td><td>40.0</td><td>6.41</td><td>0</td><td>0.447</td><td>6.482</td><td>32.1</td><td>4.1403</td><td>4</td><td>254</td></tr><tr><th>15</th><td>0.03659</td><td>25.0</td><td>4.86</td><td>0</td><td>0.426</td><td>6.302</td><td>32.2</td><td>5.4007</td><td>4</td><td>281</td></tr><tr><th>16</th><td>2.14918</td><td>0.0</td><td>19.58</td><td>0</td><td>0.871</td><td>5.709</td><td>98.5</td><td>1.6232</td><td>5</td><td>403</td></tr><tr><th>17</th><td>3.67822</td><td>0.0</td><td>18.1</td><td>0</td><td>0.77</td><td>5.362</td><td>96.2</td><td>2.1036</td><td>24</td><td>666</td></tr><tr><th>18</th><td>20.0849</td><td>0.0</td><td>18.1</td><td>0</td><td>0.7</td><td>4.368</td><td>91.2</td><td>1.4395</td><td>24</td><td>666</td></tr><tr><th>19</th><td>0.75026</td><td>0.0</td><td>8.14</td><td>0</td><td>0.538</td><td>5.924</td><td>94.1</td><td>4.3996</td><td>4</td><td>307</td></tr><tr><th>20</th><td>7.02259</td><td>0.0</td><td>18.1</td><td>0</td><td>0.718</td><td>6.006</td><td>95.3</td><td>1.8746</td><td>24</td><td>666</td></tr><tr><th>21</th><td>0.88125</td><td>0.0</td><td>21.89</td><td>0</td><td>0.624</td><td>5.637</td><td>94.7</td><td>1.9799</td><td>4</td><td>437</td></tr><tr><th>22</th><td>1.12658</td><td>0.0</td><td>19.58</td><td>1</td><td>0.871</td><td>5.012</td><td>88.0</td><td>1.6102</td><td>5</td><td>403</td></tr><tr><th>23</th><td>0.01096</td><td>55.0</td><td>2.25</td><td>0</td><td>0.389</td><td>6.453</td><td>31.9</td><td>7.3073</td><td>1</td><td>300</td></tr><tr><th>24</th><td>0.17331</td><td>0.0</td><td>9.69</td><td>0</td><td>0.585</td><td>5.707</td><td>54.0</td><td>2.3817</td><td>6</td><td>391</td></tr><tr><th>25</th><td>1.42502</td><td>0.0</td><td>19.58</td><td>0</td><td>0.871</td><td>6.51</td><td>100.0</td><td>1.7659</td><td>5</td><td>403</td></tr><tr><th>26</th><td>8.05579</td><td>0.0</td><td>18.1</td><td>0</td><td>0.584</td><td>5.427</td><td>95.4</td><td>2.4298</td><td>24</td><td>666</td></tr><tr><th>27</th><td>8.26725</td><td>0.0</td><td>18.1</td><td>1</td><td>0.668</td><td>5.875</td><td>89.6</td><td>1.1296</td><td>24</td><td>666</td></tr><tr><th>28</th><td>0.03584</td><td>80.0</td><td>3.37</td><td>0</td><td>0.398</td><td>6.29</td><td>17.8</td><td>6.6115</td><td>4</td><td>337</td></tr><tr><th>29</th><td>0.25387</td><td>0.0</td><td>6.91</td><td>0</td><td>0.448</td><td>5.399</td><td>95.3</td><td>5.87</td><td>3</td><td>233</td></tr><tr><th>30</th><td>0.52014</td><td>20.0</td><td>3.97</td><td>0</td><td>0.647</td><td>8.398</td><td>91.5</td><td>2.2885</td><td>5</td><td>264</td></tr><tr><th>&vellip;</th><td>&vellip;</td><td>&vellip;</td><td>&vellip;</td><td>&vellip;</td><td>&vellip;</td><td>&vellip;</td><td>&vellip;</td><td>&vellip;</td><td>&vellip;</td><td>&vellip;</td></tr></tbody></table>"
      ],
      "text/latex": [
       "\\begin{tabular}{r|ccccccccccc}\n",
       "\t& Crim & Zn & Indus & Chas & NOx & Rm & Age & Dis & Rad & Tax & \\\\\n",
       "\t\\hline\n",
       "\t& Float64 & Float64 & Float64 & Int64 & Float64 & Float64 & Float64 & Float64 & Int64 & Int64 & \\\\\n",
       "\t\\hline\n",
       "\t1 & 4.55587 & 0.0 & 18.1 & 0 & 0.718 & 3.561 & 87.9 & 1.6132 & 24 & 666 & $\\dots$ \\\\\n",
       "\t2 & 0.03537 & 34.0 & 6.09 & 0 & 0.433 & 6.59 & 40.4 & 5.4917 & 7 & 329 & $\\dots$ \\\\\n",
       "\t3 & 0.28955 & 0.0 & 10.59 & 0 & 0.489 & 5.412 & 9.8 & 3.5875 & 4 & 277 & $\\dots$ \\\\\n",
       "\t4 & 8.24809 & 0.0 & 18.1 & 0 & 0.713 & 7.393 & 99.3 & 2.4527 & 24 & 666 & $\\dots$ \\\\\n",
       "\t5 & 0.12204 & 0.0 & 2.89 & 0 & 0.445 & 6.625 & 57.8 & 3.4952 & 2 & 276 & $\\dots$ \\\\\n",
       "\t6 & 41.5292 & 0.0 & 18.1 & 0 & 0.693 & 5.531 & 85.4 & 1.6074 & 24 & 666 & $\\dots$ \\\\\n",
       "\t7 & 7.52601 & 0.0 & 18.1 & 0 & 0.713 & 6.417 & 98.3 & 2.185 & 24 & 666 & $\\dots$ \\\\\n",
       "\t8 & 6.44405 & 0.0 & 18.1 & 0 & 0.584 & 6.425 & 74.8 & 2.2004 & 24 & 666 & $\\dots$ \\\\\n",
       "\t9 & 0.07503 & 33.0 & 2.18 & 0 & 0.472 & 7.42 & 71.9 & 3.0992 & 7 & 222 & $\\dots$ \\\\\n",
       "\t10 & 2.44668 & 0.0 & 19.58 & 0 & 0.871 & 5.272 & 94.0 & 1.7364 & 5 & 403 & $\\dots$ \\\\\n",
       "\t11 & 0.32543 & 0.0 & 21.89 & 0 & 0.624 & 6.431 & 98.8 & 1.8125 & 4 & 437 & $\\dots$ \\\\\n",
       "\t12 & 0.97617 & 0.0 & 21.89 & 0 & 0.624 & 5.757 & 98.4 & 2.346 & 4 & 437 & $\\dots$ \\\\\n",
       "\t13 & 0.46296 & 0.0 & 6.2 & 0 & 0.504 & 7.412 & 76.9 & 3.6715 & 8 & 307 & $\\dots$ \\\\\n",
       "\t14 & 0.07978 & 40.0 & 6.41 & 0 & 0.447 & 6.482 & 32.1 & 4.1403 & 4 & 254 & $\\dots$ \\\\\n",
       "\t15 & 0.03659 & 25.0 & 4.86 & 0 & 0.426 & 6.302 & 32.2 & 5.4007 & 4 & 281 & $\\dots$ \\\\\n",
       "\t16 & 2.14918 & 0.0 & 19.58 & 0 & 0.871 & 5.709 & 98.5 & 1.6232 & 5 & 403 & $\\dots$ \\\\\n",
       "\t17 & 3.67822 & 0.0 & 18.1 & 0 & 0.77 & 5.362 & 96.2 & 2.1036 & 24 & 666 & $\\dots$ \\\\\n",
       "\t18 & 20.0849 & 0.0 & 18.1 & 0 & 0.7 & 4.368 & 91.2 & 1.4395 & 24 & 666 & $\\dots$ \\\\\n",
       "\t19 & 0.75026 & 0.0 & 8.14 & 0 & 0.538 & 5.924 & 94.1 & 4.3996 & 4 & 307 & $\\dots$ \\\\\n",
       "\t20 & 7.02259 & 0.0 & 18.1 & 0 & 0.718 & 6.006 & 95.3 & 1.8746 & 24 & 666 & $\\dots$ \\\\\n",
       "\t21 & 0.88125 & 0.0 & 21.89 & 0 & 0.624 & 5.637 & 94.7 & 1.9799 & 4 & 437 & $\\dots$ \\\\\n",
       "\t22 & 1.12658 & 0.0 & 19.58 & 1 & 0.871 & 5.012 & 88.0 & 1.6102 & 5 & 403 & $\\dots$ \\\\\n",
       "\t23 & 0.01096 & 55.0 & 2.25 & 0 & 0.389 & 6.453 & 31.9 & 7.3073 & 1 & 300 & $\\dots$ \\\\\n",
       "\t24 & 0.17331 & 0.0 & 9.69 & 0 & 0.585 & 5.707 & 54.0 & 2.3817 & 6 & 391 & $\\dots$ \\\\\n",
       "\t25 & 1.42502 & 0.0 & 19.58 & 0 & 0.871 & 6.51 & 100.0 & 1.7659 & 5 & 403 & $\\dots$ \\\\\n",
       "\t26 & 8.05579 & 0.0 & 18.1 & 0 & 0.584 & 5.427 & 95.4 & 2.4298 & 24 & 666 & $\\dots$ \\\\\n",
       "\t27 & 8.26725 & 0.0 & 18.1 & 1 & 0.668 & 5.875 & 89.6 & 1.1296 & 24 & 666 & $\\dots$ \\\\\n",
       "\t28 & 0.03584 & 80.0 & 3.37 & 0 & 0.398 & 6.29 & 17.8 & 6.6115 & 4 & 337 & $\\dots$ \\\\\n",
       "\t29 & 0.25387 & 0.0 & 6.91 & 0 & 0.448 & 5.399 & 95.3 & 5.87 & 3 & 233 & $\\dots$ \\\\\n",
       "\t30 & 0.52014 & 20.0 & 3.97 & 0 & 0.647 & 8.398 & 91.5 & 2.2885 & 5 & 264 & $\\dots$ \\\\\n",
       "\t$\\dots$ & $\\dots$ & $\\dots$ & $\\dots$ & $\\dots$ & $\\dots$ & $\\dots$ & $\\dots$ & $\\dots$ & $\\dots$ & $\\dots$ &  \\\\\n",
       "\\end{tabular}\n"
      ],
      "text/plain": [
       "101×14 DataFrame. Omitted printing of 7 columns\n",
       "│ Row │ Crim    │ Zn      │ Indus   │ Chas  │ NOx     │ Rm      │ Age     │\n",
       "│     │ \u001b[90mFloat64\u001b[39m │ \u001b[90mFloat64\u001b[39m │ \u001b[90mFloat64\u001b[39m │ \u001b[90mInt64\u001b[39m │ \u001b[90mFloat64\u001b[39m │ \u001b[90mFloat64\u001b[39m │ \u001b[90mFloat64\u001b[39m │\n",
       "├─────┼─────────┼─────────┼─────────┼───────┼─────────┼─────────┼─────────┤\n",
       "│ 1   │ 4.55587 │ 0.0     │ 18.1    │ 0     │ 0.718   │ 3.561   │ 87.9    │\n",
       "│ 2   │ 0.03537 │ 34.0    │ 6.09    │ 0     │ 0.433   │ 6.59    │ 40.4    │\n",
       "│ 3   │ 0.28955 │ 0.0     │ 10.59   │ 0     │ 0.489   │ 5.412   │ 9.8     │\n",
       "│ 4   │ 8.24809 │ 0.0     │ 18.1    │ 0     │ 0.713   │ 7.393   │ 99.3    │\n",
       "│ 5   │ 0.12204 │ 0.0     │ 2.89    │ 0     │ 0.445   │ 6.625   │ 57.8    │\n",
       "│ 6   │ 41.5292 │ 0.0     │ 18.1    │ 0     │ 0.693   │ 5.531   │ 85.4    │\n",
       "│ 7   │ 7.52601 │ 0.0     │ 18.1    │ 0     │ 0.713   │ 6.417   │ 98.3    │\n",
       "│ 8   │ 6.44405 │ 0.0     │ 18.1    │ 0     │ 0.584   │ 6.425   │ 74.8    │\n",
       "│ 9   │ 0.07503 │ 33.0    │ 2.18    │ 0     │ 0.472   │ 7.42    │ 71.9    │\n",
       "│ 10  │ 2.44668 │ 0.0     │ 19.58   │ 0     │ 0.871   │ 5.272   │ 94.0    │\n",
       "⋮\n",
       "│ 91  │ 4.81213 │ 0.0     │ 18.1    │ 0     │ 0.713   │ 6.701   │ 90.0    │\n",
       "│ 92  │ 17.8667 │ 0.0     │ 18.1    │ 0     │ 0.671   │ 6.223   │ 100.0   │\n",
       "│ 93  │ 0.14476 │ 0.0     │ 10.01   │ 0     │ 0.547   │ 5.731   │ 65.2    │\n",
       "│ 94  │ 0.10612 │ 30.0    │ 4.93    │ 0     │ 0.428   │ 6.095   │ 65.1    │\n",
       "│ 95  │ 0.06417 │ 0.0     │ 5.96    │ 0     │ 0.499   │ 5.933   │ 68.2    │\n",
       "│ 96  │ 0.11069 │ 0.0     │ 13.89   │ 1     │ 0.55    │ 5.951   │ 93.8    │\n",
       "│ 97  │ 18.811  │ 0.0     │ 18.1    │ 0     │ 0.597   │ 4.628   │ 100.0   │\n",
       "│ 98  │ 0.02187 │ 60.0    │ 2.93    │ 0     │ 0.401   │ 6.8     │ 9.9     │\n",
       "│ 99  │ 0.7857  │ 20.0    │ 3.97    │ 0     │ 0.647   │ 7.014   │ 84.6    │\n",
       "│ 100 │ 0.6147  │ 0.0     │ 6.2     │ 0     │ 0.507   │ 6.618   │ 80.8    │\n",
       "│ 101 │ 0.05479 │ 33.0    │ 2.18    │ 0     │ 0.472   │ 6.616   │ 58.1    │"
      ]
     },
     "execution_count": 8,
     "metadata": {},
     "output_type": "execute_result"
    }
   ],
   "source": [
    "train = boston[train_ind, :]\n",
    "test = boston[test_ind, :]"
   ]
  },
  {
   "cell_type": "code",
   "execution_count": 9,
   "metadata": {},
   "outputs": [
    {
     "data": {
      "text/html": [
       "<table class=\"data-frame\"><thead><tr><th></th><th>variable</th><th>mean</th><th>min</th><th>median</th><th>max</th><th>nunique</th><th>nmissing</th><th>eltype</th></tr><tr><th></th><th>Symbol</th><th>Float64</th><th>Real</th><th>Float64</th><th>Real</th><th>Nothing</th><th>Nothing</th><th>DataType</th></tr></thead><tbody><p>14 rows × 8 columns</p><tr><th>1</th><td>Crim</td><td>3.61352</td><td>0.00632</td><td>0.25651</td><td>88.9762</td><td></td><td></td><td>Float64</td></tr><tr><th>2</th><td>Zn</td><td>11.3636</td><td>0.0</td><td>0.0</td><td>100.0</td><td></td><td></td><td>Float64</td></tr><tr><th>3</th><td>Indus</td><td>11.1368</td><td>0.46</td><td>9.69</td><td>27.74</td><td></td><td></td><td>Float64</td></tr><tr><th>4</th><td>Chas</td><td>0.06917</td><td>0</td><td>0.0</td><td>1</td><td></td><td></td><td>Int64</td></tr><tr><th>5</th><td>NOx</td><td>0.554695</td><td>0.385</td><td>0.538</td><td>0.871</td><td></td><td></td><td>Float64</td></tr><tr><th>6</th><td>Rm</td><td>6.28463</td><td>3.561</td><td>6.2085</td><td>8.78</td><td></td><td></td><td>Float64</td></tr><tr><th>7</th><td>Age</td><td>68.5749</td><td>2.9</td><td>77.5</td><td>100.0</td><td></td><td></td><td>Float64</td></tr><tr><th>8</th><td>Dis</td><td>3.79504</td><td>1.1296</td><td>3.20745</td><td>12.1265</td><td></td><td></td><td>Float64</td></tr><tr><th>9</th><td>Rad</td><td>9.54941</td><td>1</td><td>5.0</td><td>24</td><td></td><td></td><td>Int64</td></tr><tr><th>10</th><td>Tax</td><td>408.237</td><td>187</td><td>330.0</td><td>711</td><td></td><td></td><td>Int64</td></tr><tr><th>11</th><td>PTRatio</td><td>18.4555</td><td>12.6</td><td>19.05</td><td>22.0</td><td></td><td></td><td>Float64</td></tr><tr><th>12</th><td>Black</td><td>356.674</td><td>0.32</td><td>391.44</td><td>396.9</td><td></td><td></td><td>Float64</td></tr><tr><th>13</th><td>LStat</td><td>12.6531</td><td>1.73</td><td>11.36</td><td>37.97</td><td></td><td></td><td>Float64</td></tr><tr><th>14</th><td>MedV</td><td>22.5328</td><td>5.0</td><td>21.2</td><td>50.0</td><td></td><td></td><td>Float64</td></tr></tbody></table>"
      ],
      "text/latex": [
       "\\begin{tabular}{r|cccccccc}\n",
       "\t& variable & mean & min & median & max & nunique & nmissing & eltype\\\\\n",
       "\t\\hline\n",
       "\t& Symbol & Float64 & Real & Float64 & Real & Nothing & Nothing & DataType\\\\\n",
       "\t\\hline\n",
       "\t1 & Crim & 3.61352 & 0.00632 & 0.25651 & 88.9762 &  &  & Float64 \\\\\n",
       "\t2 & Zn & 11.3636 & 0.0 & 0.0 & 100.0 &  &  & Float64 \\\\\n",
       "\t3 & Indus & 11.1368 & 0.46 & 9.69 & 27.74 &  &  & Float64 \\\\\n",
       "\t4 & Chas & 0.06917 & 0 & 0.0 & 1 &  &  & Int64 \\\\\n",
       "\t5 & NOx & 0.554695 & 0.385 & 0.538 & 0.871 &  &  & Float64 \\\\\n",
       "\t6 & Rm & 6.28463 & 3.561 & 6.2085 & 8.78 &  &  & Float64 \\\\\n",
       "\t7 & Age & 68.5749 & 2.9 & 77.5 & 100.0 &  &  & Float64 \\\\\n",
       "\t8 & Dis & 3.79504 & 1.1296 & 3.20745 & 12.1265 &  &  & Float64 \\\\\n",
       "\t9 & Rad & 9.54941 & 1 & 5.0 & 24 &  &  & Int64 \\\\\n",
       "\t10 & Tax & 408.237 & 187 & 330.0 & 711 &  &  & Int64 \\\\\n",
       "\t11 & PTRatio & 18.4555 & 12.6 & 19.05 & 22.0 &  &  & Float64 \\\\\n",
       "\t12 & Black & 356.674 & 0.32 & 391.44 & 396.9 &  &  & Float64 \\\\\n",
       "\t13 & LStat & 12.6531 & 1.73 & 11.36 & 37.97 &  &  & Float64 \\\\\n",
       "\t14 & MedV & 22.5328 & 5.0 & 21.2 & 50.0 &  &  & Float64 \\\\\n",
       "\\end{tabular}\n"
      ],
      "text/plain": [
       "14×8 DataFrame. Omitted printing of 1 columns\n",
       "│ Row │ variable │ mean     │ min     │ median  │ max     │ nunique │ nmissing │\n",
       "│     │ \u001b[90mSymbol\u001b[39m   │ \u001b[90mFloat64\u001b[39m  │ \u001b[90mReal\u001b[39m    │ \u001b[90mFloat64\u001b[39m │ \u001b[90mReal\u001b[39m    │ \u001b[90mNothing\u001b[39m │ \u001b[90mNothing\u001b[39m  │\n",
       "├─────┼──────────┼──────────┼─────────┼─────────┼─────────┼─────────┼──────────┤\n",
       "│ 1   │ Crim     │ 3.61352  │ 0.00632 │ 0.25651 │ 88.9762 │         │          │\n",
       "│ 2   │ Zn       │ 11.3636  │ 0.0     │ 0.0     │ 100.0   │         │          │\n",
       "│ 3   │ Indus    │ 11.1368  │ 0.46    │ 9.69    │ 27.74   │         │          │\n",
       "│ 4   │ Chas     │ 0.06917  │ 0       │ 0.0     │ 1       │         │          │\n",
       "│ 5   │ NOx      │ 0.554695 │ 0.385   │ 0.538   │ 0.871   │         │          │\n",
       "│ 6   │ Rm       │ 6.28463  │ 3.561   │ 6.2085  │ 8.78    │         │          │\n",
       "│ 7   │ Age      │ 68.5749  │ 2.9     │ 77.5    │ 100.0   │         │          │\n",
       "│ 8   │ Dis      │ 3.79504  │ 1.1296  │ 3.20745 │ 12.1265 │         │          │\n",
       "│ 9   │ Rad      │ 9.54941  │ 1       │ 5.0     │ 24      │         │          │\n",
       "│ 10  │ Tax      │ 408.237  │ 187     │ 330.0   │ 711     │         │          │\n",
       "│ 11  │ PTRatio  │ 18.4555  │ 12.6    │ 19.05   │ 22.0    │         │          │\n",
       "│ 12  │ Black    │ 356.674  │ 0.32    │ 391.44  │ 396.9   │         │          │\n",
       "│ 13  │ LStat    │ 12.6531  │ 1.73    │ 11.36   │ 37.97   │         │          │\n",
       "│ 14  │ MedV     │ 22.5328  │ 5.0     │ 21.2    │ 50.0    │         │          │"
      ]
     },
     "execution_count": 9,
     "metadata": {},
     "output_type": "execute_result"
    }
   ],
   "source": [
    "describe(boston)"
   ]
  },
  {
   "cell_type": "code",
   "execution_count": 10,
   "metadata": {},
   "outputs": [
    {
     "data": {
      "text/plain": [
       "StatsModels.TableRegressionModel{LinearModel{GLM.LmResp{Array{Float64,1}},GLM.DensePredChol{Float64,LinearAlgebra.Cholesky{Float64,Array{Float64,2}}}},Array{Float64,2}}\n",
       "\n",
       "MedV ~ 1 + Crim + Zn + Indus + Chas + NOx + Rm + Age + Dis + Rad + Tax + PTRatio + Black + LStat\n",
       "\n",
       "Coefficients:\n",
       "────────────────────────────────────────────────────────────────────────────────────\n",
       "                Estimate  Std. Error    t value  Pr(>|t|)     Lower 95%    Upper 95%\n",
       "────────────────────────────────────────────────────────────────────────────────────\n",
       "(Intercept)   20.2126     5.4132       3.73395     0.0002    9.56997     30.8552    \n",
       "Crim          -0.0964794  0.0308074   -3.1317      0.0019   -0.157048    -0.0359106 \n",
       "Zn             0.0345868  0.0136618    2.53165     0.0117    0.00772706   0.0614466 \n",
       "Indus          0.0488564  0.0594642    0.82161     0.4118   -0.0680532    0.165766  \n",
       "Chas           1.33934    0.869225     1.54085     0.1242   -0.369598     3.04828   \n",
       "NOx          -15.1599     4.03208     -3.75983     0.0002  -23.0872      -7.23267   \n",
       "Rm             5.70699    0.476229    11.9837      <1e-27    4.7707       6.64328   \n",
       "Age           -0.0131188  0.0134026   -0.978821    0.3283   -0.039469     0.0132314 \n",
       "Dis           -1.15941    0.200608    -5.77951     <1e-7    -1.55382     -0.76501   \n",
       "Rad            0.204649   0.0672582    3.04274     0.0025    0.0724159    0.336882  \n",
       "Tax           -0.0110794  0.00370191  -2.99289     0.0029   -0.0183576   -0.00380127\n",
       "PTRatio       -0.9597     0.128634    -7.46071     <1e-12   -1.2126      -0.706799  \n",
       "Black          0.0114535  0.00262617   4.3613      <1e-4     0.00629034   0.0166167 \n",
       "LStat         -0.35314    0.0570637   -6.18852     <1e-8    -0.46533     -0.24095   \n",
       "────────────────────────────────────────────────────────────────────────────────────"
      ]
     },
     "execution_count": 10,
     "metadata": {},
     "output_type": "execute_result"
    }
   ],
   "source": [
    "ols = GLM.lm(@formula(MedV ~ Crim + Zn + Indus + Chas + NOx + Rm + Age + Dis + Rad + Tax + PTRatio + Black + LStat), train)"
   ]
  },
  {
   "cell_type": "code",
   "execution_count": 11,
   "metadata": {},
   "outputs": [
    {
     "data": {
      "text/plain": [
       "101-element Array{Union{Missing, Float64},1}:\n",
       "  6.766559963121555  \n",
       " 29.34449433525835   \n",
       " 13.347490787420838  \n",
       " 24.077718349240683  \n",
       " 28.422552996699956  \n",
       "  7.416988226793267  \n",
       " 17.172522926392922  \n",
       " 19.77708744951681   \n",
       " 35.682650420893665  \n",
       " 12.335837296693263  \n",
       " 19.837294513706155  \n",
       " 13.100292844173474  \n",
       " 33.8560144227395    \n",
       "  ⋮                  \n",
       " 21.99230732794158   \n",
       " 19.145350807602888  \n",
       " 16.76155211799942   \n",
       " 20.084318622499133  \n",
       " 23.690198193512366  \n",
       " 22.635044852226436  \n",
       " 23.70766864276061   \n",
       " -0.13091999664428755\n",
       " 32.842754626810816  \n",
       " 32.458289656354175  \n",
       " 29.08434508944555   \n",
       " 30.053979952599487  "
      ]
     },
     "execution_count": 11,
     "metadata": {},
     "output_type": "execute_result"
    }
   ],
   "source": [
    "predict(ols, test)"
   ]
  },
  {
   "cell_type": "code",
   "execution_count": 12,
   "metadata": {},
   "outputs": [
    {
     "data": {
      "text/plain": [
       "0.7936344160181026"
      ]
     },
     "execution_count": 12,
     "metadata": {},
     "output_type": "execute_result"
    }
   ],
   "source": [
    "GLM.r²(ols)"
   ]
  },
  {
   "cell_type": "code",
   "execution_count": 13,
   "metadata": {},
   "outputs": [
    {
     "data": {
      "text/plain": [
       "0.7867731561926175"
      ]
     },
     "execution_count": 13,
     "metadata": {},
     "output_type": "execute_result"
    }
   ],
   "source": [
    "GLM.adjr²(ols)"
   ]
  }
 ],
 "metadata": {
  "kernelspec": {
   "display_name": "Julia 1.2.0",
   "language": "julia",
   "name": "julia-1.2"
  },
  "language_info": {
   "file_extension": ".jl",
   "mimetype": "application/julia",
   "name": "julia",
   "version": "1.2.0"
  }
 },
 "nbformat": 4,
 "nbformat_minor": 4
}
